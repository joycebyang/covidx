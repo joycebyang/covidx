{
 "cells": [
  {
   "cell_type": "code",
   "execution_count": 53,
   "metadata": {},
   "outputs": [],
   "source": [
    "# !pip install efficientnet-pytorch sklearn pytorch-gradcam"
   ]
  },
  {
   "cell_type": "markdown",
   "metadata": {},
   "source": [
    "<b>History of performance</b>\n",
    "\n",
    "<u>ResNet50</u>\n",
    "```\n",
    "Epoch [20] [----] Accuracy=0.849 time: 9907.055, avg: 495.353\n",
    "9910.68 seconds taken for model training\n",
    "Saved the trained model: checkpoints/ResNet50-13082020-225751.pth.tar\n",
    "```\n",
    "\n",
    "Confusion Matrix:\n",
    "```\n",
    "[[812  71   2]\n",
    " [ 69 524   1]\n",
    " [ 15  47  38]]\n",
    " \n",
    "Normalized:\n",
    "[[0.91751412 0.08022599 0.00225989]\n",
    " [0.11616162 0.88215488 0.0016835 ]\n",
    " [0.15       0.47       0.38      ]]\n",
    "\n",
    "Average precision:\n",
    "{'normal': 0.9635609285949972,\n",
    " 'pneumonia': 0.9167709627528383,\n",
    " 'COVID-19': 0.7177274694611359}\n",
    "\n",
    "```\n",
    "\n",
    "<u>DenseNet169</u>\n",
    "```\n",
    "Epoch [20] [save] Accuracy=0.877 time: 10684.240, avg: 534.212\n",
    "10692.20 seconds taken for model training\n",
    "Saved the trained model: checkpoints/DenseNet169-13082020-160734.pth.tar\n",
    "\n",
    "```\n",
    "\n",
    "Confusion Matrix:\n",
    "```\n",
    "[[842  40   3]\n",
    " [ 82 501  11]\n",
    " [ 21  34  45]]\n",
    " \n",
    "Normalized:\n",
    "[[0.95141243 0.04519774 0.00338983]\n",
    " [0.13804714 0.84343434 0.01851852]\n",
    " [0.21       0.34       0.45      ]]\n",
    "\n",
    "Average precision:\n",
    "{'normal': 0.9693357502226474,\n",
    " 'pneumonia': 0.926793498666849,\n",
    " 'COVID-19': 0.6723035153267891}\n",
    "```\n",
    "\n",
    "<u>EfficientNet5</u>\n",
    "```\n",
    "Epoch [20] [save] Accuracy=0.829 time: 13919.191, avg: 695.960\n",
    "13922.36 seconds taken for model training\n",
    "Saved the trained model: checkpoints/EfficientNet5-13082020-190547.pth.tar\n",
    "\n",
    "Confusion Matrix:\n",
    "\n",
    "[[833  51   1]\n",
    " [126 468   0]\n",
    " [ 42  37  21]]\n",
    " \n",
    "Normalized:\n",
    "[[0.94124294 0.05762712 0.00112994]\n",
    " [0.21212121 0.78787879 0.        ]\n",
    " [0.42       0.37       0.21      ]]\n",
    "\n",
    "Average precision:\n",
    "{'normal': 0.9417960453705472,\n",
    " 'pneumonia': 0.9044023769306659,\n",
    " 'COVID-19': 0.53796939494876}\n",
    "\n",
    "```"
   ]
  },
  {
   "cell_type": "code",
   "execution_count": 54,
   "metadata": {},
   "outputs": [],
   "source": [
    "import os\n",
    "\n",
    "import matplotlib.pyplot as plt\n",
    "import numpy as np\n",
    "import sklearn\n",
    "import torch\n",
    "from sklearn.metrics import average_precision_score\n",
    "from sklearn.metrics import confusion_matrix\n",
    "from sklearn.metrics import precision_recall_curve\n",
    "from sklearn.metrics import ConfusionMatrixDisplay\n",
    "from torch.utils.data import DataLoader\n",
    "from torchvision import transforms\n",
    "\n",
    "import models\n",
    "from dataset_generator import DatasetGenerator\n"
   ]
  },
  {
   "cell_type": "code",
   "execution_count": 55,
   "metadata": {},
   "outputs": [],
   "source": [
    "mean = [0.485, 0.456, 0.406]\n",
    "std = [0.229, 0.224, 0.225]\n",
    "image_resize = 256\n",
    "image_crop = 224\n",
    "batch_size = 64\n",
    "\n",
    "class_to_idx = {\n",
    "    'normal': 0,\n",
    "    'pneumonia': 1,\n",
    "    'COVID-19': 2\n",
    "}\n",
    "\n",
    "image_dir = 'data'\n",
    "test_csv_file = 'test_split.txt'\n",
    "\n",
    "# define test transforms\n",
    "test_transforms = transforms.Compose([\n",
    "    transforms.Resize(image_resize),\n",
    "    transforms.CenterCrop(image_crop),\n",
    "    transforms.ToTensor(),\n",
    "    transforms.Normalize(mean=mean, std=std)\n",
    "])\n",
    "\n",
    "# define test dataset\n",
    "test_dir = os.path.join(image_dir, 'test')\n",
    "test_dataset = DatasetGenerator(test_csv_file, test_dir, transform=test_transforms)\n",
    "test_loader = DataLoader(test_dataset, batch_size=batch_size, num_workers=16, shuffle=True)"
   ]
  },
  {
   "cell_type": "code",
   "execution_count": 58,
   "metadata": {},
   "outputs": [
    {
     "name": "stdout",
     "output_type": "stream",
     "text": [
      "total 795M\r\n",
      "-rw-r--r-- 1 ubuntu ubuntu  55M Aug 13 19:05 DenseNet169-13082020-160734.pth.tar\r\n",
      "-rw-r--r-- 1 ubuntu ubuntu 117M Aug 13 22:57 EfficientNet5-13082020-190547.pth.tar\r\n",
      "-rw-r--r-- 1 ubuntu ubuntu  98M Aug 14 01:43 ResNet50-13082020-225751.pth.tar\r\n",
      "-rw-rw-r-- 1 ubuntu ubuntu  31M Aug 17 21:47 DenseNet121-1597699937.pth.tar\r\n",
      "-rw-rw-r-- 1 ubuntu ubuntu  98M Aug 17 22:09 ResNet50-1597701693.pth.tar\r\n",
      "-rw-rw-r-- 1 ubuntu ubuntu 117M Aug 17 22:30 EfficientNet5-1597702792.pth.tar\r\n",
      "-rw-rw-r-- 1 ubuntu ubuntu  55M Aug 18 00:28 DenseNet169-1597709583.pth.tar\r\n",
      "-rw-r--r-- 1 ubuntu ubuntu  55M Aug 18 09:19 DenseNet169-18082020-062006.pth.tar\r\n",
      "-rw-r--r-- 1 ubuntu ubuntu 171M Aug 18 13:38 ResNet101-18082020-095135.pth.tar\r\n"
     ]
    }
   ],
   "source": [
    "!ls -ltrh checkpoints"
   ]
  },
  {
   "cell_type": "code",
   "execution_count": 59,
   "metadata": {},
   "outputs": [],
   "source": [
    "# load model\n",
    "def load_pretrained_model(arch):\n",
    "    model_func = getattr(models, arch)\n",
    "    model = model_func()\n",
    "    model.arch = arch\n",
    "\n",
    "    return model\n",
    "\n",
    "os.environ['HOME'] = '.'"
   ]
  },
  {
   "cell_type": "code",
   "execution_count": 60,
   "metadata": {},
   "outputs": [
    {
     "name": "stdout",
     "output_type": "stream",
     "text": [
      "Loaded pretrained weights for efficientnet-b5\n"
     ]
    },
    {
     "data": {
      "text/plain": [
       "<All keys matched successfully>"
      ]
     },
     "execution_count": 60,
     "metadata": {},
     "output_type": "execute_result"
    }
   ],
   "source": [
    "# TBD load checkpoint file\n",
    "ckp_path = 'checkpoints/EfficientNet5-13082020-190547.pth.tar'\n",
    "model_checkpoint = torch.load(ckp_path, map_location=torch.device('cpu'))\n",
    "state_dict = model_checkpoint['state_dict']\n",
    "arch = model_checkpoint['arch']\n",
    "pretrained_model = load_pretrained_model(arch)\n",
    "\n",
    "# check the state dictionary matches\n",
    "old_state_dict = pretrained_model.state_dict()\n",
    "for k in state_dict:\n",
    "    if k not in old_state_dict:\n",
    "        print('Unexpected key %s in state_dict' % k)\n",
    "for k in old_state_dict:\n",
    "    if k not in state_dict:\n",
    "        print('Missing key %s in state_dict' % k)\n",
    "\n",
    "# TBD: load checkpoint into pretrained_model\n",
    "pretrained_model.load_state_dict(state_dict)"
   ]
  },
  {
   "cell_type": "code",
   "execution_count": 61,
   "metadata": {},
   "outputs": [
    {
     "name": "stdout",
     "output_type": "stream",
     "text": [
      "128 torch.Size([128, 3])\n",
      "256 torch.Size([256, 3])\n",
      "384 torch.Size([384, 3])\n",
      "512 torch.Size([512, 3])\n",
      "640 torch.Size([640, 3])\n",
      "768 torch.Size([768, 3])\n",
      "896 torch.Size([896, 3])\n",
      "1024 torch.Size([1024, 3])\n",
      "1152 torch.Size([1152, 3])\n",
      "1280 torch.Size([1280, 3])\n",
      "1408 torch.Size([1408, 3])\n",
      "1536 torch.Size([1536, 3])\n"
     ]
    }
   ],
   "source": [
    "# do prediction for test dataset\n",
    "pretrained_model.eval()\n",
    "\n",
    "# append the prediction output using torch.cat\n",
    "pred_out = torch.FloatTensor()\n",
    "# append the labels\n",
    "labels_list = []\n",
    "with torch.no_grad():\n",
    "    for images, labels in test_loader:\n",
    "        # TBD append the labels\n",
    "        labels_list.extend(labels)\n",
    "        log_ps = pretrained_model.forward(images)\n",
    "        ps = torch.exp(log_ps).squeeze()\n",
    "        # TBD append the prediction output using torch.cat\n",
    "        pred_out = torch.cat((pred_out,ps),0)\n",
    "        if len(labels_list) % 128 == 0:\n",
    "            print(len(labels_list), pred_out.shape)"
   ]
  },
  {
   "cell_type": "code",
   "execution_count": 62,
   "metadata": {},
   "outputs": [
    {
     "data": {
      "text/plain": [
       "{'normal': 0.9417960453705472,\n",
       " 'pneumonia': 0.9044023769306659,\n",
       " 'COVID-19': 0.53796939494876}"
      ]
     },
     "execution_count": 62,
     "metadata": {},
     "output_type": "execute_result"
    }
   ],
   "source": [
    "precision = dict()\n",
    "recall = dict()\n",
    "average_precision = dict()\n",
    "\n",
    "# https://github.com/rachellea/glassboxmedicine/blob/master/2020-07-14-AUROC-AP/main.py\n",
    "# http://scikit-learn.org/stable/auto_examples/model_selection/plot_precision_recall.html\n",
    "\n",
    "# for each clz ('normal', 'pneumonia', 'COVID-19')\n",
    "for clz in class_to_idx:\n",
    "    clz_pred_out = pred_out[:,class_to_idx[clz]].numpy()\n",
    "    # TBD calculate precision and recall curve and store in precision, recall\n",
    "    precision[clz], recall[clz], _ = precision_recall_curve(y_true = labels_list,\n",
    "                                                           probas_pred = clz_pred_out,\n",
    "                                                           pos_label = clz)\n",
    "    \n",
    "    clz_labels_list = [clz == label for label in labels_list]\n",
    "    # TBD calculate average precision score (the area under the curve)\n",
    "    average_precision[clz] = average_precision_score(y_true=clz_labels_list,\n",
    "                                                    y_score = clz_pred_out)\n",
    "\n",
    "# TBD result looks like the following    \n",
    "# {'normal': 0.9855985255902013,\n",
    "#  'pneumonia': 0.9713300353762777,\n",
    "#  'COVID-19': 0.8363362361594885}\n",
    "average_precision"
   ]
  },
  {
   "cell_type": "code",
   "execution_count": 63,
   "metadata": {
    "scrolled": true
   },
   "outputs": [
    {
     "data": {
      "image/png": "[encoded data removed]",
      "text/plain": [
       "<Figure size 432x288 with 1 Axes>"
      ]
     },
     "metadata": {
      "needs_background": "light"
     },
     "output_type": "display_data"
    }
   ],
   "source": [
    "colors = ['navy', 'turquoise', 'darkorange', 'cornflowerblue', 'teal']\n",
    "\n",
    "lines = []\n",
    "labels = []\n",
    "\n",
    "for clz in class_to_idx:\n",
    "    l, = plt.plot(recall[clz], precision[clz], color=colors[class_to_idx[clz]], lw=2)\n",
    "    lines.append(l)\n",
    "    labels.append('Precision-recall for class {0} (area = {1:0.2f})'.format(clz, average_precision[clz]))\n",
    "    \n",
    "fig = plt.gcf()\n",
    "fig.subplots_adjust(bottom=0.25)\n",
    "plt.xlim([0.0, 1.0])\n",
    "plt.ylim([0.0, 1.05])\n",
    "plt.xlabel('Recall')\n",
    "plt.ylabel('Precision')\n",
    "plt.title('Precision-Recall curve for {}'.format(arch))\n",
    "plt.legend(lines, labels, loc=(0, -.68), prop=dict(size=14))\n",
    "\n",
    "plt.show()"
   ]
  },
  {
   "cell_type": "code",
   "execution_count": 64,
   "metadata": {},
   "outputs": [],
   "source": [
    "# NOT USED\n",
    "def confusion_matrix_values(y_true, y_score, decision_thresh):\n",
    "    #Obtain binary predicted labels by applying <decision_thresh> to <y_score>\n",
    "    y_pred = (np.array(y_score) > decision_thresh)\n",
    "    cm = sklearn.metrics.confusion_matrix(y_true=y_true, y_pred=y_pred)\n",
    "    true_neg, false_pos, false_neg, true_pos = cm.ravel()\n",
    "    return true_neg, false_pos, false_neg, true_pos"
   ]
  },
  {
   "cell_type": "code",
   "execution_count": 65,
   "metadata": {},
   "outputs": [],
   "source": [
    "# NOT USED\n",
    "def calculate_tpr_fpr_prec(y_true, y_score, decision_thresh):\n",
    "    true_neg, false_pos, false_neg, true_pos =  confusion_matrix_values(y_true, y_score, decision_thresh)\n",
    "    tpr_recall = float(true_pos)/(true_pos + false_neg)\n",
    "    fpr = float(false_pos)/(false_pos+true_neg)\n",
    "    precision = float(true_pos)/(true_pos + false_pos)\n",
    "    return tpr_recall, fpr, precision"
   ]
  },
  {
   "cell_type": "code",
   "execution_count": 66,
   "metadata": {},
   "outputs": [
    {
     "name": "stdout",
     "output_type": "stream",
     "text": [
      "[[833  51   1]\n",
      " [126 468   0]\n",
      " [ 42  37  21]]\n",
      "[[0.94124294 0.05762712 0.00112994]\n",
      " [0.21212121 0.78787879 0.        ]\n",
      " [0.42       0.37       0.21      ]]\n"
     ]
    }
   ],
   "source": [
    "max_pred_out = pred_out.max(dim=1)\n",
    "max_pred_indices = max_pred_out.indices.numpy()\n",
    "max_pred_vals = max_pred_out.values.numpy()\n",
    "\n",
    "labels_indices = [class_to_idx[label] for label in labels_list]\n",
    "cm = confusion_matrix(y_true = labels_indices, y_pred = max_pred_indices)\n",
    "print(cm)\n",
    "\n",
    "\n",
    "normalized_cm = confusion_matrix(y_true = labels_indices, y_pred = max_pred_indices, normalize = 'true')\n",
    "print(normalized_cm)"
   ]
  },
  {
   "cell_type": "code",
   "execution_count": 67,
   "metadata": {},
   "outputs": [
    {
     "data": {
      "image/png": "[encoded data removed]",
      "text/plain": [
       "<Figure size 432x288 with 2 Axes>"
      ]
     },
     "metadata": {
      "needs_background": "light"
     },
     "output_type": "display_data"
    }
   ],
   "source": [
    "cm_display = ConfusionMatrixDisplay(normalized_cm, display_labels = np.array(['Normal','Pneumonia','COVID-19'])).plot()"
   ]
  },
  {
   "cell_type": "code",
   "execution_count": null,
   "metadata": {},
   "outputs": [],
   "source": []
  }
 ],
 "metadata": {
  "kernelspec": {
   "display_name": "Environment (conda_pytorch_p36)",
   "language": "python",
   "name": "conda_pytorch_p36"
  },
  "language_info": {
   "codemirror_mode": {
    "name": "ipython",
    "version": 3
   },
   "file_extension": ".py",
   "mimetype": "text/x-python",
   "name": "python",
   "nbconvert_exporter": "python",
   "pygments_lexer": "ipython3",
   "version": "3.6.10"
  }
 },
 "nbformat": 4,
 "nbformat_minor": 4
}
